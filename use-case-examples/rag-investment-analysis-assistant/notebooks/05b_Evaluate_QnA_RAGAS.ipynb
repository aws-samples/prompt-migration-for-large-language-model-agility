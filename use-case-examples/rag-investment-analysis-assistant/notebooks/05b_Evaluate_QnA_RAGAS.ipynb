{
 "cells": [
  {
   "cell_type": "markdown",
   "id": "4de2ff35-4352-4168-a306-67d448ea5bfd",
   "metadata": {},
   "source": [
    "# RAGAS Evaluation Framework"
   ]
  },
  {
   "cell_type": "markdown",
   "id": "f07765cd",
   "metadata": {},
   "source": [
    "Licensed under the Apache License, Version 2.0 (the \"License\");\n",
    "you may not use this file except in compliance with the License.\n",
    "You may obtain a copy of the License athttp://www.apache.org/licenses/LICENSE-2.0Unless required by applicable law or agreed to in writing, software distributed under the License is distributed on an \"AS IS\" BASIS,\n",
    "WITHOUT WARRANTIES OR CONDITIONS OF ANY KIND, either express or implied.\n",
    "See the License for the specific language governing permissions and limitations under the License.Copyright 2024 Amazon Web Services, Inc."
   ]
  },
  {
   "cell_type": "markdown",
   "id": "4e0f5caa-213f-45c3-8144-742c94427626",
   "metadata": {},
   "source": [
    "![OVERALL FLOW PROCESS](../images/workflow.png)"
   ]
  },
  {
   "cell_type": "markdown",
   "id": "37851968-3db9-4d25-825e-502977edb1a6",
   "metadata": {},
   "source": [
    " In this notebook, we will evaluate the the sample output from the LLM for RAG use case using RAGAS. "
   ]
  },
  {
   "cell_type": "markdown",
   "id": "cbd3545f-2c71-4d92-87ae-2dfd174c40bd",
   "metadata": {},
   "source": [
    "Ragas is a framework that helps you evaluate your Retrieval Augmented Generation (RAG) pipelines. RAG denotes a class of LLM applications that use external data to augment the LLM’s context. There are existing tools and frameworks that help you build these pipelines but evaluating it and quantifying your pipeline performance can be hard. This is where Ragas (RAG Assessment) comes in.\n",
    "Ragas aims to create an open standard, providing developers with the tools and techniques to leverage continual learning in their RAG applications. With Ragas, you would be able to\n",
    "\n",
    "- Synthetically generate a diverse test dataset that you can use to evaluate your app.\n",
    "\n",
    "- Use LLM-assisted evaluation metrics designed to help you objectively measure the performance of your application.\n",
    "\n",
    "- Monitor the quality of your apps in production using smaller, cheaper models that can give actionable insights. For example, the number of hallucinations in the generated answer.\n",
    "\n",
    "- Use these insights to iterate and improve your application."
   ]
  },
  {
   "cell_type": "markdown",
   "id": "c1149512-963a-4cd8-96f2-271fcfc61a21",
   "metadata": {},
   "source": [
    "## Preliminary\n",
    "1. The ragas-evaluation package is in the \"libraries/ragas-evaluation\" directory.\n",
    "2. Run `pip install -e . --quiet` in \"libraries/ragas-evaluation\"\n",
    "3. Install LlamaIndex, run `pip install llama-index==0.9.6.post1`\n"
   ]
  },
  {
   "cell_type": "markdown",
   "id": "cd6f5ccf-4248-468d-a941-e1b0f9be642f",
   "metadata": {
    "tags": []
   },
   "source": [
    "## Load packages and tools"
   ]
  },
  {
   "cell_type": "code",
   "execution_count": 1,
   "id": "6d20a00a-3951-460d-8de2-eb4c910facbd",
   "metadata": {
    "tags": []
   },
   "outputs": [],
   "source": [
    "!pip install -e ../libraries/ragas-evaluation --quiet"
   ]
  },
  {
   "cell_type": "code",
   "execution_count": 2,
   "id": "5c211ee9-5f04-4440-aa70-e85620ffc527",
   "metadata": {
    "tags": []
   },
   "outputs": [
    {
     "name": "stdout",
     "output_type": "stream",
     "text": [
      "\u001b[31mERROR: pip's dependency resolver does not currently take into account all the packages that are installed. This behaviour is the source of the following dependency conflicts.\r\n",
      "sagemaker 2.237.1 requires importlib-metadata<7.0,>=1.4.0, but you have importlib-metadata 7.0.2 which is incompatible.\r\n",
      "sphinx 8.1.3 requires docutils<0.22,>=0.20, but you have docutils 0.16 which is incompatible.\u001b[0m\u001b[31m\r\n",
      "\u001b[0m"
     ]
    }
   ],
   "source": [
    "!pip install llama-index==0.9.6.post1 --quiet"
   ]
  },
  {
   "cell_type": "code",
   "execution_count": 3,
   "id": "2f500991-2d30-403d-9092-87d455c7bc8d",
   "metadata": {
    "tags": []
   },
   "outputs": [],
   "source": [
    "#!pip install --upgrade pydantic --quiet"
   ]
  },
  {
   "cell_type": "code",
   "execution_count": 1,
   "id": "9dac98e7-0426-443c-ae56-b120f99385ec",
   "metadata": {
    "tags": []
   },
   "outputs": [],
   "source": [
    "import os\n",
    "import sys\n",
    "import pandas as pd\n",
    "from datasets import Dataset\n",
    "from datasets import load_dataset"
   ]
  },
  {
   "cell_type": "code",
   "execution_count": 2,
   "id": "1fbee42e-7815-4b11-ba46-56a116b77418",
   "metadata": {
    "tags": []
   },
   "outputs": [],
   "source": [
    "sys.path.append('../libraries/ragas-evaluation/src/')\n",
    "from ragas import evaluate\n",
    "from ragas.metrics._answer_precision import AnswerPrecision, answer_precision\n",
    "from ragas.metrics._answer_recall import AnswerRecall, answer_recall\n",
    "from ragas.metrics._answer_correctness import AnswerCorrectness, answer_correctness\n",
    "from ragas.metrics._answer_similarity import AnswerSimilarity, answer_similarity\n",
    "from ragas.metrics._answer_relevance import AnswerRelevancy, answer_relevancy\n",
    "from ragas.metrics._context_precision import (\n",
    "    ContextPrecision,\n",
    "    context_precision,\n",
    ")\n",
    "from ragas.metrics._context_recall import ContextRecall, context_recall\n",
    "from ragas.metrics._aspect_critic import AspectCritic, SUPPORTED_ASPECTS\n",
    "from ragas.metrics._faithfulness import Faithfulness, faithfulness"
   ]
  },
  {
   "cell_type": "markdown",
   "id": "42224b15-cf29-441e-a421-a1df9d2f4adb",
   "metadata": {},
   "source": [
    "Users can ignore the installation error messages for the packages version if there's any."
   ]
  },
  {
   "cell_type": "markdown",
   "id": "837289dd-98aa-40a0-a878-aad01879821c",
   "metadata": {},
   "source": [
    "## Load and pre-process the samples for evaluation"
   ]
  },
  {
   "cell_type": "markdown",
   "id": "df6f2c5b-f5d6-40ed-8020-31c4b6db8cd1",
   "metadata": {},
   "source": [
    "#### Load the samples\n",
    "We are using a sample data file stored in '../data/inputs/'. If you wish to bring in your own data, please store the data in .csv file under '../../outputs/rag/rag_outputs/' directory and ensure the schema is following the format that includes the exact columns in the csv file, ie. question, ground_truth, llm_answer, llm_contexts...."
   ]
  },
  {
   "cell_type": "markdown",
   "id": "42779462-6d97-4da1-a40b-4f16dc44b3bf",
   "metadata": {},
   "source": [
    "There are RAG output results with different models: output_openai.csv/output_claude.csv/output_mistral.csv ready to be evaluated, the output files from RAG are stored under ../../outputs/rag/rag_outputs\n",
    "To run through this notebook, please input the desired model name that needs to be evaluated in this notebook:"
   ]
  },
  {
   "cell_type": "code",
   "execution_count": 15,
   "id": "32d868f2-24d0-487d-936b-b252319cac96",
   "metadata": {
    "tags": []
   },
   "outputs": [
    {
     "name": "stdout",
     "output_type": "stream",
     "text": [
      "../outputs/rag_outputs/output_claude.csv\n"
     ]
    }
   ],
   "source": [
    "# src model\n",
    "# model_output = \"mistral\"\n",
    "# model_output=\"openai\"\n",
    "model_output= \"claude\"\n",
    "\n",
    "result_csv_file = (\n",
    "    f\"../outputs/rag_outputs/output_\" + model_output + \".csv\"\n",
    ")  # change filename to the one that needs to be evaluated\n",
    "print(result_csv_file)"
   ]
  },
  {
   "cell_type": "code",
   "execution_count": 16,
   "id": "4a1efb9a-559e-43ef-bbb0-801c2d70a55d",
   "metadata": {
    "scrolled": true,
    "tags": []
   },
   "outputs": [
    {
     "data": {
      "text/html": [
       "<div>\n",
       "<style scoped>\n",
       "    .dataframe tbody tr th:only-of-type {\n",
       "        vertical-align: middle;\n",
       "    }\n",
       "\n",
       "    .dataframe tbody tr th {\n",
       "        vertical-align: top;\n",
       "    }\n",
       "\n",
       "    .dataframe thead th {\n",
       "        text-align: right;\n",
       "    }\n",
       "</style>\n",
       "<table border=\"1\" class=\"dataframe\">\n",
       "  <thead>\n",
       "    <tr style=\"text-align: right;\">\n",
       "      <th></th>\n",
       "      <th>doc_link</th>\n",
       "      <th>doc_period</th>\n",
       "      <th>question_type</th>\n",
       "      <th>question</th>\n",
       "      <th>ground_truths</th>\n",
       "      <th>evidence_text</th>\n",
       "      <th>page_number</th>\n",
       "      <th>llm_answer</th>\n",
       "      <th>llm_contexts</th>\n",
       "      <th>latency_meta_time</th>\n",
       "      <th>latency_meta_kwd</th>\n",
       "      <th>latency_meta_comb</th>\n",
       "      <th>latency_meta_ans_gen</th>\n",
       "      <th>input_tokens</th>\n",
       "      <th>output_tokens</th>\n",
       "    </tr>\n",
       "    <tr>\n",
       "      <th>doc_name</th>\n",
       "      <th></th>\n",
       "      <th></th>\n",
       "      <th></th>\n",
       "      <th></th>\n",
       "      <th></th>\n",
       "      <th></th>\n",
       "      <th></th>\n",
       "      <th></th>\n",
       "      <th></th>\n",
       "      <th></th>\n",
       "      <th></th>\n",
       "      <th></th>\n",
       "      <th></th>\n",
       "      <th></th>\n",
       "      <th></th>\n",
       "    </tr>\n",
       "  </thead>\n",
       "  <tbody>\n",
       "    <tr>\n",
       "      <th>3M_2018_10K</th>\n",
       "      <td>https://investors.3m.com/financials/sec-filing...</td>\n",
       "      <td>2018</td>\n",
       "      <td>metrics-generated</td>\n",
       "      <td>What is the FY2018 capital expenditure amount ...</td>\n",
       "      <td>'$1577.00'</td>\n",
       "      <td>Table of Contents \\n3M Company and Subsidiarie...</td>\n",
       "      <td>60</td>\n",
       "      <td>According to the cash flow statement in the 3M...</td>\n",
       "      <td>['&lt;&lt;Paragraph&gt;&gt; [Source File: 3M_2018_10K] \\n ...</td>\n",
       "      <td>0.927055</td>\n",
       "      <td>0.606658</td>\n",
       "      <td>1.448762</td>\n",
       "      <td>2.483714</td>\n",
       "      <td>21147</td>\n",
       "      <td>401</td>\n",
       "    </tr>\n",
       "    <tr>\n",
       "      <th>3M_2022_10K</th>\n",
       "      <td>https://investors.3m.com/financials/sec-filing...</td>\n",
       "      <td>2022</td>\n",
       "      <td>domain-relevant</td>\n",
       "      <td>Is 3M a capital-intensive business based on FY...</td>\n",
       "      <td>'No, the company is managing its CAPEX and Fix...</td>\n",
       "      <td>3M Company and Subsidiaries\\n Consolidated Sta...</td>\n",
       "      <td>48,50,52</td>\n",
       "      <td>Based on the financial information provided in...</td>\n",
       "      <td>['&lt;&lt;Paragraph&gt;&gt; [Source File: 3M_2022_10K] \\n ...</td>\n",
       "      <td>0.714294</td>\n",
       "      <td>0.503733</td>\n",
       "      <td>1.938756</td>\n",
       "      <td>5.232772</td>\n",
       "      <td>23180</td>\n",
       "      <td>635</td>\n",
       "    </tr>\n",
       "    <tr>\n",
       "      <th>ADOBE_2022_10K</th>\n",
       "      <td>https://www.adobe.com/pdf-page.html?pdfTarget=...</td>\n",
       "      <td>2022</td>\n",
       "      <td>domain-relevant</td>\n",
       "      <td>Does Adobe have an improving operating margin ...</td>\n",
       "      <td>'No the operating margins of Adobe have recent...</td>\n",
       "      <td>ADOBE INC.\\nCONSOLIDATED STATEMENTS OF INCOME\\...</td>\n",
       "      <td>54</td>\n",
       "      <td>Based on the financial information provided in...</td>\n",
       "      <td>['&lt;&lt;Paragraph&gt;&gt; [Source File: ADOBE_2022_10K] ...</td>\n",
       "      <td>0.774023</td>\n",
       "      <td>3.742355</td>\n",
       "      <td>1.554743</td>\n",
       "      <td>4.361795</td>\n",
       "      <td>13324</td>\n",
       "      <td>1038</td>\n",
       "    </tr>\n",
       "    <tr>\n",
       "      <th>ADOBE_2022_10K</th>\n",
       "      <td>https://www.adobe.com/pdf-page.html?pdfTarget=...</td>\n",
       "      <td>2022</td>\n",
       "      <td>novel-generated</td>\n",
       "      <td>Does Adobe have an improving Free cashflow con...</td>\n",
       "      <td>'Yes, the FCF conversion (using net income as ...</td>\n",
       "      <td>ADOBE INC.\\n CONSOLIDATED STATEMENTS OF CASH F...</td>\n",
       "      <td>57</td>\n",
       "      <td>Based on the financial information provided in...</td>\n",
       "      <td>['&lt;&lt;Paragraph&gt;&gt; [Source File: ADOBE_2022_10K] ...</td>\n",
       "      <td>0.891798</td>\n",
       "      <td>0.576164</td>\n",
       "      <td>1.379593</td>\n",
       "      <td>3.781731</td>\n",
       "      <td>12957</td>\n",
       "      <td>526</td>\n",
       "    </tr>\n",
       "    <tr>\n",
       "      <th>AMD_2015_10K</th>\n",
       "      <td>https://ir.amd.com/sec-filings/filter/annual-f...</td>\n",
       "      <td>2015</td>\n",
       "      <td>metrics-generated</td>\n",
       "      <td>Answer the following question as if you are an...</td>\n",
       "      <td>'4.2%'</td>\n",
       "      <td>ITEM 8.\\nFINANCIAL STATEMENTS AND SUPPLEMENTAR...</td>\n",
       "      <td>56,60</td>\n",
       "      <td>According to the details in the Profit and Los...</td>\n",
       "      <td>['&lt;&lt;Paragraph&gt;&gt; [Source File: AMD_2015_10K] \\n...</td>\n",
       "      <td>0.821045</td>\n",
       "      <td>0.420084</td>\n",
       "      <td>1.686061</td>\n",
       "      <td>2.925910</td>\n",
       "      <td>24266</td>\n",
       "      <td>494</td>\n",
       "    </tr>\n",
       "  </tbody>\n",
       "</table>\n",
       "</div>"
      ],
      "text/plain": [
       "                                                         doc_link  doc_period  \\\n",
       "doc_name                                                                        \n",
       "3M_2018_10K     https://investors.3m.com/financials/sec-filing...        2018   \n",
       "3M_2022_10K     https://investors.3m.com/financials/sec-filing...        2022   \n",
       "ADOBE_2022_10K  https://www.adobe.com/pdf-page.html?pdfTarget=...        2022   \n",
       "ADOBE_2022_10K  https://www.adobe.com/pdf-page.html?pdfTarget=...        2022   \n",
       "AMD_2015_10K    https://ir.amd.com/sec-filings/filter/annual-f...        2015   \n",
       "\n",
       "                    question_type  \\\n",
       "doc_name                            \n",
       "3M_2018_10K     metrics-generated   \n",
       "3M_2022_10K       domain-relevant   \n",
       "ADOBE_2022_10K    domain-relevant   \n",
       "ADOBE_2022_10K    novel-generated   \n",
       "AMD_2015_10K    metrics-generated   \n",
       "\n",
       "                                                         question  \\\n",
       "doc_name                                                            \n",
       "3M_2018_10K     What is the FY2018 capital expenditure amount ...   \n",
       "3M_2022_10K     Is 3M a capital-intensive business based on FY...   \n",
       "ADOBE_2022_10K  Does Adobe have an improving operating margin ...   \n",
       "ADOBE_2022_10K  Does Adobe have an improving Free cashflow con...   \n",
       "AMD_2015_10K    Answer the following question as if you are an...   \n",
       "\n",
       "                                                    ground_truths  \\\n",
       "doc_name                                                            \n",
       "3M_2018_10K                                            '$1577.00'   \n",
       "3M_2022_10K     'No, the company is managing its CAPEX and Fix...   \n",
       "ADOBE_2022_10K  'No the operating margins of Adobe have recent...   \n",
       "ADOBE_2022_10K  'Yes, the FCF conversion (using net income as ...   \n",
       "AMD_2015_10K                                               '4.2%'   \n",
       "\n",
       "                                                    evidence_text page_number  \\\n",
       "doc_name                                                                        \n",
       "3M_2018_10K     Table of Contents \\n3M Company and Subsidiarie...          60   \n",
       "3M_2022_10K     3M Company and Subsidiaries\\n Consolidated Sta...    48,50,52   \n",
       "ADOBE_2022_10K  ADOBE INC.\\nCONSOLIDATED STATEMENTS OF INCOME\\...          54   \n",
       "ADOBE_2022_10K  ADOBE INC.\\n CONSOLIDATED STATEMENTS OF CASH F...          57   \n",
       "AMD_2015_10K    ITEM 8.\\nFINANCIAL STATEMENTS AND SUPPLEMENTAR...       56,60   \n",
       "\n",
       "                                                       llm_answer  \\\n",
       "doc_name                                                            \n",
       "3M_2018_10K     According to the cash flow statement in the 3M...   \n",
       "3M_2022_10K     Based on the financial information provided in...   \n",
       "ADOBE_2022_10K  Based on the financial information provided in...   \n",
       "ADOBE_2022_10K  Based on the financial information provided in...   \n",
       "AMD_2015_10K    According to the details in the Profit and Los...   \n",
       "\n",
       "                                                     llm_contexts  \\\n",
       "doc_name                                                            \n",
       "3M_2018_10K     ['<<Paragraph>> [Source File: 3M_2018_10K] \\n ...   \n",
       "3M_2022_10K     ['<<Paragraph>> [Source File: 3M_2022_10K] \\n ...   \n",
       "ADOBE_2022_10K  ['<<Paragraph>> [Source File: ADOBE_2022_10K] ...   \n",
       "ADOBE_2022_10K  ['<<Paragraph>> [Source File: ADOBE_2022_10K] ...   \n",
       "AMD_2015_10K    ['<<Paragraph>> [Source File: AMD_2015_10K] \\n...   \n",
       "\n",
       "                latency_meta_time  latency_meta_kwd  latency_meta_comb  \\\n",
       "doc_name                                                                 \n",
       "3M_2018_10K              0.927055          0.606658           1.448762   \n",
       "3M_2022_10K              0.714294          0.503733           1.938756   \n",
       "ADOBE_2022_10K           0.774023          3.742355           1.554743   \n",
       "ADOBE_2022_10K           0.891798          0.576164           1.379593   \n",
       "AMD_2015_10K             0.821045          0.420084           1.686061   \n",
       "\n",
       "                latency_meta_ans_gen  input_tokens  output_tokens  \n",
       "doc_name                                                           \n",
       "3M_2018_10K                 2.483714         21147            401  \n",
       "3M_2022_10K                 5.232772         23180            635  \n",
       "ADOBE_2022_10K              4.361795         13324           1038  \n",
       "ADOBE_2022_10K              3.781731         12957            526  \n",
       "AMD_2015_10K                2.925910         24266            494  "
      ]
     },
     "execution_count": 16,
     "metadata": {},
     "output_type": "execute_result"
    }
   ],
   "source": [
    "# result_csv_file ='../data/inputs/output_claude.csv'\n",
    "\n",
    "result_df = pd.read_csv(result_csv_file, index_col=0)\n",
    "\n",
    "result_df.head()"
   ]
  },
  {
   "cell_type": "markdown",
   "id": "c788e9a0-8f3a-43bc-a929-b51a7df2b9b7",
   "metadata": {},
   "source": [
    "## Pre-process the samples: This step depends on the format of the input samples "
   ]
  },
  {
   "cell_type": "code",
   "execution_count": 17,
   "id": "50199d61-3c0e-4a18-917a-ffd2a34621b7",
   "metadata": {
    "tags": []
   },
   "outputs": [
    {
     "data": {
      "text/html": [
       "<div>\n",
       "<style scoped>\n",
       "    .dataframe tbody tr th:only-of-type {\n",
       "        vertical-align: middle;\n",
       "    }\n",
       "\n",
       "    .dataframe tbody tr th {\n",
       "        vertical-align: top;\n",
       "    }\n",
       "\n",
       "    .dataframe thead th {\n",
       "        text-align: right;\n",
       "    }\n",
       "</style>\n",
       "<table border=\"1\" class=\"dataframe\">\n",
       "  <thead>\n",
       "    <tr style=\"text-align: right;\">\n",
       "      <th></th>\n",
       "      <th>doc_link</th>\n",
       "      <th>doc_period</th>\n",
       "      <th>question_type</th>\n",
       "      <th>question</th>\n",
       "      <th>ground_truths</th>\n",
       "      <th>evidence_text</th>\n",
       "      <th>page_number</th>\n",
       "      <th>llm_answer</th>\n",
       "      <th>llm_contexts</th>\n",
       "      <th>latency_meta_time</th>\n",
       "      <th>latency_meta_kwd</th>\n",
       "      <th>latency_meta_comb</th>\n",
       "      <th>latency_meta_ans_gen</th>\n",
       "      <th>input_tokens</th>\n",
       "      <th>output_tokens</th>\n",
       "    </tr>\n",
       "    <tr>\n",
       "      <th>doc_name</th>\n",
       "      <th></th>\n",
       "      <th></th>\n",
       "      <th></th>\n",
       "      <th></th>\n",
       "      <th></th>\n",
       "      <th></th>\n",
       "      <th></th>\n",
       "      <th></th>\n",
       "      <th></th>\n",
       "      <th></th>\n",
       "      <th></th>\n",
       "      <th></th>\n",
       "      <th></th>\n",
       "      <th></th>\n",
       "      <th></th>\n",
       "    </tr>\n",
       "  </thead>\n",
       "  <tbody>\n",
       "    <tr>\n",
       "      <th>3M_2018_10K</th>\n",
       "      <td>https://investors.3m.com/financials/sec-filing...</td>\n",
       "      <td>2018</td>\n",
       "      <td>metrics-generated</td>\n",
       "      <td>What is the FY2018 capital expenditure amount ...</td>\n",
       "      <td>'$1577.00'</td>\n",
       "      <td>Table of Contents \\n3M Company and Subsidiarie...</td>\n",
       "      <td>60</td>\n",
       "      <td>According to the cash flow statement in the 3M...</td>\n",
       "      <td>[&lt;&lt;Paragraph&gt;&gt; [Source File: 3M_2018_10K] \\n  ...</td>\n",
       "      <td>0.927055</td>\n",
       "      <td>0.606658</td>\n",
       "      <td>1.448762</td>\n",
       "      <td>2.483714</td>\n",
       "      <td>21147</td>\n",
       "      <td>401</td>\n",
       "    </tr>\n",
       "    <tr>\n",
       "      <th>3M_2022_10K</th>\n",
       "      <td>https://investors.3m.com/financials/sec-filing...</td>\n",
       "      <td>2022</td>\n",
       "      <td>domain-relevant</td>\n",
       "      <td>Is 3M a capital-intensive business based on FY...</td>\n",
       "      <td>'No, the company is managing its CAPEX and Fix...</td>\n",
       "      <td>3M Company and Subsidiaries\\n Consolidated Sta...</td>\n",
       "      <td>48,50,52</td>\n",
       "      <td>Based on the financial information provided in...</td>\n",
       "      <td>[&lt;&lt;Paragraph&gt;&gt; [Source File: 3M_2022_10K] \\n  ...</td>\n",
       "      <td>0.714294</td>\n",
       "      <td>0.503733</td>\n",
       "      <td>1.938756</td>\n",
       "      <td>5.232772</td>\n",
       "      <td>23180</td>\n",
       "      <td>635</td>\n",
       "    </tr>\n",
       "    <tr>\n",
       "      <th>ADOBE_2022_10K</th>\n",
       "      <td>https://www.adobe.com/pdf-page.html?pdfTarget=...</td>\n",
       "      <td>2022</td>\n",
       "      <td>domain-relevant</td>\n",
       "      <td>Does Adobe have an improving operating margin ...</td>\n",
       "      <td>'No the operating margins of Adobe have recent...</td>\n",
       "      <td>ADOBE INC.\\nCONSOLIDATED STATEMENTS OF INCOME\\...</td>\n",
       "      <td>54</td>\n",
       "      <td>Based on the financial information provided in...</td>\n",
       "      <td>[&lt;&lt;Paragraph&gt;&gt; [Source File: ADOBE_2022_10K] \\...</td>\n",
       "      <td>0.774023</td>\n",
       "      <td>3.742355</td>\n",
       "      <td>1.554743</td>\n",
       "      <td>4.361795</td>\n",
       "      <td>13324</td>\n",
       "      <td>1038</td>\n",
       "    </tr>\n",
       "    <tr>\n",
       "      <th>ADOBE_2022_10K</th>\n",
       "      <td>https://www.adobe.com/pdf-page.html?pdfTarget=...</td>\n",
       "      <td>2022</td>\n",
       "      <td>novel-generated</td>\n",
       "      <td>Does Adobe have an improving Free cashflow con...</td>\n",
       "      <td>'Yes, the FCF conversion (using net income as ...</td>\n",
       "      <td>ADOBE INC.\\n CONSOLIDATED STATEMENTS OF CASH F...</td>\n",
       "      <td>57</td>\n",
       "      <td>Based on the financial information provided in...</td>\n",
       "      <td>[&lt;&lt;Paragraph&gt;&gt; [Source File: ADOBE_2022_10K] \\...</td>\n",
       "      <td>0.891798</td>\n",
       "      <td>0.576164</td>\n",
       "      <td>1.379593</td>\n",
       "      <td>3.781731</td>\n",
       "      <td>12957</td>\n",
       "      <td>526</td>\n",
       "    </tr>\n",
       "    <tr>\n",
       "      <th>AMD_2015_10K</th>\n",
       "      <td>https://ir.amd.com/sec-filings/filter/annual-f...</td>\n",
       "      <td>2015</td>\n",
       "      <td>metrics-generated</td>\n",
       "      <td>Answer the following question as if you are an...</td>\n",
       "      <td>'4.2%'</td>\n",
       "      <td>ITEM 8.\\nFINANCIAL STATEMENTS AND SUPPLEMENTAR...</td>\n",
       "      <td>56,60</td>\n",
       "      <td>According to the details in the Profit and Los...</td>\n",
       "      <td>[&lt;&lt;Paragraph&gt;&gt; [Source File: AMD_2015_10K] \\n ...</td>\n",
       "      <td>0.821045</td>\n",
       "      <td>0.420084</td>\n",
       "      <td>1.686061</td>\n",
       "      <td>2.925910</td>\n",
       "      <td>24266</td>\n",
       "      <td>494</td>\n",
       "    </tr>\n",
       "  </tbody>\n",
       "</table>\n",
       "</div>"
      ],
      "text/plain": [
       "                                                         doc_link  doc_period  \\\n",
       "doc_name                                                                        \n",
       "3M_2018_10K     https://investors.3m.com/financials/sec-filing...        2018   \n",
       "3M_2022_10K     https://investors.3m.com/financials/sec-filing...        2022   \n",
       "ADOBE_2022_10K  https://www.adobe.com/pdf-page.html?pdfTarget=...        2022   \n",
       "ADOBE_2022_10K  https://www.adobe.com/pdf-page.html?pdfTarget=...        2022   \n",
       "AMD_2015_10K    https://ir.amd.com/sec-filings/filter/annual-f...        2015   \n",
       "\n",
       "                    question_type  \\\n",
       "doc_name                            \n",
       "3M_2018_10K     metrics-generated   \n",
       "3M_2022_10K       domain-relevant   \n",
       "ADOBE_2022_10K    domain-relevant   \n",
       "ADOBE_2022_10K    novel-generated   \n",
       "AMD_2015_10K    metrics-generated   \n",
       "\n",
       "                                                         question  \\\n",
       "doc_name                                                            \n",
       "3M_2018_10K     What is the FY2018 capital expenditure amount ...   \n",
       "3M_2022_10K     Is 3M a capital-intensive business based on FY...   \n",
       "ADOBE_2022_10K  Does Adobe have an improving operating margin ...   \n",
       "ADOBE_2022_10K  Does Adobe have an improving Free cashflow con...   \n",
       "AMD_2015_10K    Answer the following question as if you are an...   \n",
       "\n",
       "                                                    ground_truths  \\\n",
       "doc_name                                                            \n",
       "3M_2018_10K                                            '$1577.00'   \n",
       "3M_2022_10K     'No, the company is managing its CAPEX and Fix...   \n",
       "ADOBE_2022_10K  'No the operating margins of Adobe have recent...   \n",
       "ADOBE_2022_10K  'Yes, the FCF conversion (using net income as ...   \n",
       "AMD_2015_10K                                               '4.2%'   \n",
       "\n",
       "                                                    evidence_text page_number  \\\n",
       "doc_name                                                                        \n",
       "3M_2018_10K     Table of Contents \\n3M Company and Subsidiarie...          60   \n",
       "3M_2022_10K     3M Company and Subsidiaries\\n Consolidated Sta...    48,50,52   \n",
       "ADOBE_2022_10K  ADOBE INC.\\nCONSOLIDATED STATEMENTS OF INCOME\\...          54   \n",
       "ADOBE_2022_10K  ADOBE INC.\\n CONSOLIDATED STATEMENTS OF CASH F...          57   \n",
       "AMD_2015_10K    ITEM 8.\\nFINANCIAL STATEMENTS AND SUPPLEMENTAR...       56,60   \n",
       "\n",
       "                                                       llm_answer  \\\n",
       "doc_name                                                            \n",
       "3M_2018_10K     According to the cash flow statement in the 3M...   \n",
       "3M_2022_10K     Based on the financial information provided in...   \n",
       "ADOBE_2022_10K  Based on the financial information provided in...   \n",
       "ADOBE_2022_10K  Based on the financial information provided in...   \n",
       "AMD_2015_10K    According to the details in the Profit and Los...   \n",
       "\n",
       "                                                     llm_contexts  \\\n",
       "doc_name                                                            \n",
       "3M_2018_10K     [<<Paragraph>> [Source File: 3M_2018_10K] \\n  ...   \n",
       "3M_2022_10K     [<<Paragraph>> [Source File: 3M_2022_10K] \\n  ...   \n",
       "ADOBE_2022_10K  [<<Paragraph>> [Source File: ADOBE_2022_10K] \\...   \n",
       "ADOBE_2022_10K  [<<Paragraph>> [Source File: ADOBE_2022_10K] \\...   \n",
       "AMD_2015_10K    [<<Paragraph>> [Source File: AMD_2015_10K] \\n ...   \n",
       "\n",
       "                latency_meta_time  latency_meta_kwd  latency_meta_comb  \\\n",
       "doc_name                                                                 \n",
       "3M_2018_10K              0.927055          0.606658           1.448762   \n",
       "3M_2022_10K              0.714294          0.503733           1.938756   \n",
       "ADOBE_2022_10K           0.774023          3.742355           1.554743   \n",
       "ADOBE_2022_10K           0.891798          0.576164           1.379593   \n",
       "AMD_2015_10K             0.821045          0.420084           1.686061   \n",
       "\n",
       "                latency_meta_ans_gen  input_tokens  output_tokens  \n",
       "doc_name                                                           \n",
       "3M_2018_10K                 2.483714         21147            401  \n",
       "3M_2022_10K                 5.232772         23180            635  \n",
       "ADOBE_2022_10K              4.361795         13324           1038  \n",
       "ADOBE_2022_10K              3.781731         12957            526  \n",
       "AMD_2015_10K                2.925910         24266            494  "
      ]
     },
     "execution_count": 17,
     "metadata": {},
     "output_type": "execute_result"
    }
   ],
   "source": [
    "# Ensure the \"contexts\" field is a list\n",
    "result_df['llm_contexts']=result_df['llm_contexts'].apply(lambda x: eval(x))\n",
    "\n",
    "# Ensure the \"ground_truths\" is field name for ground truth answer\n",
    "result_df.rename(columns={\"answer\":\"ground_truths\"}, inplace=True)\n",
    "\n",
    "# Ensure the \"llm_answer\" field has no None type\n",
    "result_df[\"llm_answer\"]=result_df['llm_answer'].fillna(value=\"Unfortunately, I cannot answer this question\")\n",
    "\n",
    "\n",
    "#print(selected_rows)\n",
    "result_df.head()"
   ]
  },
  {
   "cell_type": "markdown",
   "id": "2ed7811e-ca02-47ac-9ea1-e2180f1ab0b7",
   "metadata": {},
   "source": [
    "Pre-process the samples: This step depends on the format of the input samples "
   ]
  },
  {
   "cell_type": "code",
   "execution_count": 18,
   "id": "b06ad5b1-0878-45a0-95f1-293b926d313b",
   "metadata": {
    "tags": []
   },
   "outputs": [],
   "source": [
    "result_ds = Dataset.from_pandas(result_df)"
   ]
  },
  {
   "cell_type": "markdown",
   "id": "5b628665-028e-4832-aba7-95ef40eb1888",
   "metadata": {
    "tags": []
   },
   "source": [
    "## Run ragas evaluation"
   ]
  },
  {
   "cell_type": "markdown",
   "id": "4f86b6d2-482b-4a49-ac8c-a12d45f30cf7",
   "metadata": {},
   "source": [
    "RAGAS Evaluation Scores\n",
    "RAGAS is a framework that helps to evaluate Retrieval Augmented Generation (RAG) pipelines. RAG denotes a class of LLM applications that use external data to augment the LLM context. It provides a variety of LLM-powered automated evaluation metrics. The below metrics are introduced evaluating RAG use case.\n",
    "\n",
    "- Answer Precision: Measures how accurately the model generated answer contain relevant and correct claims compared to the ground truth answer.\n",
    "- Answer Recall: Evaluates the completeness of the answer, i.e., model's ability to retrieve all correct claims comparing to the ground truth answer. High recall indicates that the answer thoroughly covers the necessary details in line with the ground truth.\n",
    "- Answer Correctness: The assessment of Answer Correctness involves gauging the accuracy of the generated answer when compared to the ground truth. This evaluation relies on the ground truth and the answer, with scores ranging from 0 to 1. A higher score indicates a closer alignment between the generated answer and the ground truth, signifying better correctness.\n",
    "- Answer Similarity: The assessment of the semantic resemblance between the generated answer and the ground truth. This evaluation is based on the ground truth and the answer, with values falling within the range of 0 to 1. A higher score signifies a better alignment between the generated answer and the ground truth.\n",
    "\n",
    "\n"
   ]
  },
  {
   "cell_type": "markdown",
   "id": "3f9a2b6f",
   "metadata": {},
   "source": [
    "Set Bedrock Configurations. Ignore if you are not using Bedrock"
   ]
  },
  {
   "cell_type": "markdown",
   "id": "10fa029c",
   "metadata": {},
   "source": [
    "---"
   ]
  },
  {
   "cell_type": "code",
   "execution_count": 19,
   "id": "1252def9",
   "metadata": {},
   "outputs": [],
   "source": [
    "import boto3\n",
    "from botocore.client import Config\n",
    "from langchain_aws import ChatBedrock\n",
    "from langchain_community.embeddings import BedrockEmbeddings"
   ]
  },
  {
   "cell_type": "code",
   "execution_count": 20,
   "id": "ea8b7eb9",
   "metadata": {},
   "outputs": [
    {
     "name": "stderr",
     "output_type": "stream",
     "text": [
      "/tmp/ipykernel_23464/812347859.py:13: LangChainDeprecationWarning: The class `BedrockEmbeddings` was deprecated in LangChain 0.2.11 and will be removed in 1.0. An updated version of the class exists in the :class:`~langchain-aws package and should be used instead. To use it run `pip install -U :class:`~langchain-aws` and import as `from :class:`~langchain_aws import BedrockEmbeddings``.\n",
      "  bedrock_embeddings = BedrockEmbeddings(model_id=eval_embedId)\n"
     ]
    }
   ],
   "source": [
    "# Set Eval Model IDS\n",
    "eval_modelId = \"anthropic.claude-3-5-sonnet-20241022-v2:0\"\n",
    "eval_embedId = \"amazon.titan-embed-text-v2:0\"\n",
    "\n",
    "# Initiate LLMs\n",
    "bedrock_config = Config(connect_timeout=120, read_timeout=120, retries={'max_attempts': 2})\n",
    "bedrock_client = boto3.client('bedrock-runtime')\n",
    "bedrock_model = ChatBedrock(model_id=eval_modelId, client=bedrock_client, model_kwargs={\n",
    "        \"max_tokens\": 5000\n",
    "    })\n",
    "\n",
    "# init the embeddings\n",
    "bedrock_embeddings = BedrockEmbeddings(model_id=eval_embedId)"
   ]
  },
  {
   "cell_type": "markdown",
   "id": "34d758f0",
   "metadata": {},
   "source": [
    "---"
   ]
  },
  {
   "cell_type": "code",
   "execution_count": 30,
   "id": "3a41d86c-9606-4476-bf1b-6ffe049cac4a",
   "metadata": {
    "tags": []
   },
   "outputs": [
    {
     "data": {
      "application/vnd.jupyter.widget-view+json": {
       "model_id": "a61a92ef8b2b40e5b581768e4be2d480",
       "version_major": 2,
       "version_minor": 0
      },
      "text/plain": [
       "Evaluating:   0%|          | 0/70 [00:00<?, ?it/s]"
      ]
     },
     "metadata": {},
     "output_type": "display_data"
    },
    {
     "name": "stderr",
     "output_type": "stream",
     "text": [
      "Prompt fix_output_format failed to parse output: The output parser failed to parse the output including retries.\n",
      "Prompt fix_output_format failed to parse output: The output parser failed to parse the output including retries.\n",
      "Prompt fix_output_format failed to parse output: The output parser failed to parse the output including retries.\n",
      "Prompt n_l_i_statement_prompt failed to parse output: The output parser failed to parse the output including retries.\n",
      "Exception raised in Job[8]: RagasOutputParserException(The output parser failed to parse the output including retries.)\n",
      "Prompt fix_output_format failed to parse output: The output parser failed to parse the output including retries.\n",
      "Prompt fix_output_format failed to parse output: The output parser failed to parse the output including retries.\n",
      "Prompt fix_output_format failed to parse output: The output parser failed to parse the output including retries.\n",
      "Prompt n_l_i_statement_prompt failed to parse output: The output parser failed to parse the output including retries.\n",
      "Exception raised in Job[14]: RagasOutputParserException(The output parser failed to parse the output including retries.)\n",
      "Prompt fix_output_format failed to parse output: The output parser failed to parse the output including retries.\n",
      "Prompt fix_output_format failed to parse output: The output parser failed to parse the output including retries.\n",
      "Prompt fix_output_format failed to parse output: The output parser failed to parse the output including retries.\n",
      "Prompt n_l_i_statement_prompt failed to parse output: The output parser failed to parse the output including retries.\n",
      "Exception raised in Job[19]: RagasOutputParserException(The output parser failed to parse the output including retries.)\n"
     ]
    },
    {
     "name": "stdout",
     "output_type": "stream",
     "text": [
      "CPU times: user 2.58 s, sys: 107 ms, total: 2.69 s\n",
      "Wall time: 1min 19s\n"
     ]
    }
   ],
   "source": [
    "%%time\n",
    "# NOTE: Comment out any metrics you don't want to use\n",
    "metrics = [\n",
    "    answer_precision,\n",
    "    answer_recall,\n",
    "    answer_correctness,\n",
    "    answer_similarity,\n",
    "    answer_relevancy,\n",
    "    faithfulness,\n",
    "    # context_precision, # currently this metric might trigger an error\n",
    "    context_recall, \n",
    "]\n",
    "\n",
    "column_map = {\n",
    "        \"question\": \"question\",\n",
    "        \"contexts\": \"llm_contexts\",\n",
    "        \"answer\": \"llm_answer\",\n",
    "        \"ground_truth\": \"ground_truths\",\n",
    "    }\n",
    "\n",
    "\n",
    "# Evaluate\n",
    "eval_result = evaluate(result_ds, metrics=metrics, llm=bedrock_model, \n",
    "                    embeddings=bedrock_embeddings, column_map=column_map)"
   ]
  },
  {
   "cell_type": "markdown",
   "id": "a810582b-4f69-4c51-bba1-dd4378edf9dc",
   "metadata": {},
   "source": [
    "## Save the evaluation results with the sample input"
   ]
  },
  {
   "cell_type": "code",
   "execution_count": 31,
   "id": "5f00c3c5-89be-460a-9569-f0b5c591abbd",
   "metadata": {
    "tags": []
   },
   "outputs": [
    {
     "name": "stdout",
     "output_type": "stream",
     "text": [
      "{'answer_precision': 0.3220, 'answer_recall': 0.5370, 'answer_correctness': 0.6223, 'semantic_similarity': 0.3737, 'answer_relevancy': 0.8598, 'faithfulness': 0.9559, 'context_recall': 0.7000}\n"
     ]
    }
   ],
   "source": [
    "print(eval_result)"
   ]
  },
  {
   "cell_type": "code",
   "execution_count": 32,
   "id": "3bfcb387-9c4c-4498-ab1e-8ea2f19b6f0d",
   "metadata": {
    "tags": []
   },
   "outputs": [
    {
     "data": {
      "text/html": [
       "<div>\n",
       "<style scoped>\n",
       "    .dataframe tbody tr th:only-of-type {\n",
       "        vertical-align: middle;\n",
       "    }\n",
       "\n",
       "    .dataframe tbody tr th {\n",
       "        vertical-align: top;\n",
       "    }\n",
       "\n",
       "    .dataframe thead th {\n",
       "        text-align: right;\n",
       "    }\n",
       "</style>\n",
       "<table border=\"1\" class=\"dataframe\">\n",
       "  <thead>\n",
       "    <tr style=\"text-align: right;\">\n",
       "      <th></th>\n",
       "      <th>user_input</th>\n",
       "      <th>retrieved_contexts</th>\n",
       "      <th>response</th>\n",
       "      <th>reference</th>\n",
       "      <th>answer_precision</th>\n",
       "      <th>answer_recall</th>\n",
       "      <th>answer_correctness</th>\n",
       "      <th>semantic_similarity</th>\n",
       "      <th>answer_relevancy</th>\n",
       "      <th>faithfulness</th>\n",
       "      <th>context_recall</th>\n",
       "    </tr>\n",
       "  </thead>\n",
       "  <tbody>\n",
       "    <tr>\n",
       "      <th>0</th>\n",
       "      <td>What is the FY2018 capital expenditure amount ...</td>\n",
       "      <td>[&lt;&lt;Paragraph&gt;&gt; [Source File: 3M_2018_10K] \\n  ...</td>\n",
       "      <td>According to the cash flow statement in the 3M...</td>\n",
       "      <td>'$1577.00'</td>\n",
       "      <td>0.000000</td>\n",
       "      <td>1.000000</td>\n",
       "      <td>0.586305</td>\n",
       "      <td>0.095220</td>\n",
       "      <td>0.819077</td>\n",
       "      <td>1.000000</td>\n",
       "      <td>1.0</td>\n",
       "    </tr>\n",
       "    <tr>\n",
       "      <th>1</th>\n",
       "      <td>Is 3M a capital-intensive business based on FY...</td>\n",
       "      <td>[&lt;&lt;Paragraph&gt;&gt; [Source File: 3M_2022_10K] \\n  ...</td>\n",
       "      <td>Based on the financial information provided in...</td>\n",
       "      <td>'No, the company is managing its CAPEX and Fix...</td>\n",
       "      <td>0.785714</td>\n",
       "      <td>NaN</td>\n",
       "      <td>0.666366</td>\n",
       "      <td>0.332131</td>\n",
       "      <td>0.845723</td>\n",
       "      <td>0.857143</td>\n",
       "      <td>0.5</td>\n",
       "    </tr>\n",
       "    <tr>\n",
       "      <th>2</th>\n",
       "      <td>Does Adobe have an improving operating margin ...</td>\n",
       "      <td>[&lt;&lt;Paragraph&gt;&gt; [Source File: ADOBE_2022_10K] \\...</td>\n",
       "      <td>Based on the financial information provided in...</td>\n",
       "      <td>'No the operating margins of Adobe have recent...</td>\n",
       "      <td>NaN</td>\n",
       "      <td>0.333333</td>\n",
       "      <td>0.657629</td>\n",
       "      <td>0.784362</td>\n",
       "      <td>0.810163</td>\n",
       "      <td>NaN</td>\n",
       "      <td>0.0</td>\n",
       "    </tr>\n",
       "    <tr>\n",
       "      <th>3</th>\n",
       "      <td>Does Adobe have an improving Free cashflow con...</td>\n",
       "      <td>[&lt;&lt;Paragraph&gt;&gt; [Source File: ADOBE_2022_10K] \\...</td>\n",
       "      <td>Based on the financial information provided in...</td>\n",
       "      <td>'Yes, the FCF conversion (using net income as ...</td>\n",
       "      <td>0.200000</td>\n",
       "      <td>0.000000</td>\n",
       "      <td>0.161393</td>\n",
       "      <td>0.645570</td>\n",
       "      <td>0.731836</td>\n",
       "      <td>1.000000</td>\n",
       "      <td>0.0</td>\n",
       "    </tr>\n",
       "    <tr>\n",
       "      <th>4</th>\n",
       "      <td>Answer the following question as if you are an...</td>\n",
       "      <td>[&lt;&lt;Paragraph&gt;&gt; [Source File: AMD_2015_10K] \\n ...</td>\n",
       "      <td>According to the details in the Profit and Los...</td>\n",
       "      <td>'4.2%'</td>\n",
       "      <td>0.000000</td>\n",
       "      <td>0.000000</td>\n",
       "      <td>0.798554</td>\n",
       "      <td>0.194215</td>\n",
       "      <td>0.858818</td>\n",
       "      <td>1.000000</td>\n",
       "      <td>0.5</td>\n",
       "    </tr>\n",
       "  </tbody>\n",
       "</table>\n",
       "</div>"
      ],
      "text/plain": [
       "                                          user_input  \\\n",
       "0  What is the FY2018 capital expenditure amount ...   \n",
       "1  Is 3M a capital-intensive business based on FY...   \n",
       "2  Does Adobe have an improving operating margin ...   \n",
       "3  Does Adobe have an improving Free cashflow con...   \n",
       "4  Answer the following question as if you are an...   \n",
       "\n",
       "                                  retrieved_contexts  \\\n",
       "0  [<<Paragraph>> [Source File: 3M_2018_10K] \\n  ...   \n",
       "1  [<<Paragraph>> [Source File: 3M_2022_10K] \\n  ...   \n",
       "2  [<<Paragraph>> [Source File: ADOBE_2022_10K] \\...   \n",
       "3  [<<Paragraph>> [Source File: ADOBE_2022_10K] \\...   \n",
       "4  [<<Paragraph>> [Source File: AMD_2015_10K] \\n ...   \n",
       "\n",
       "                                            response  \\\n",
       "0  According to the cash flow statement in the 3M...   \n",
       "1  Based on the financial information provided in...   \n",
       "2  Based on the financial information provided in...   \n",
       "3  Based on the financial information provided in...   \n",
       "4  According to the details in the Profit and Los...   \n",
       "\n",
       "                                           reference  answer_precision  \\\n",
       "0                                         '$1577.00'          0.000000   \n",
       "1  'No, the company is managing its CAPEX and Fix...          0.785714   \n",
       "2  'No the operating margins of Adobe have recent...               NaN   \n",
       "3  'Yes, the FCF conversion (using net income as ...          0.200000   \n",
       "4                                             '4.2%'          0.000000   \n",
       "\n",
       "   answer_recall  answer_correctness  semantic_similarity  answer_relevancy  \\\n",
       "0       1.000000            0.586305             0.095220          0.819077   \n",
       "1            NaN            0.666366             0.332131          0.845723   \n",
       "2       0.333333            0.657629             0.784362          0.810163   \n",
       "3       0.000000            0.161393             0.645570          0.731836   \n",
       "4       0.000000            0.798554             0.194215          0.858818   \n",
       "\n",
       "   faithfulness  context_recall  \n",
       "0      1.000000             1.0  \n",
       "1      0.857143             0.5  \n",
       "2           NaN             0.0  \n",
       "3      1.000000             0.0  \n",
       "4      1.000000             0.5  "
      ]
     },
     "execution_count": 32,
     "metadata": {},
     "output_type": "execute_result"
    }
   ],
   "source": [
    "# Add the fields from the input dataframe to the evaluation result dataframe\n",
    "eval_result_df = eval_result.to_pandas()\n",
    "eval_result_df.head()"
   ]
  },
  {
   "cell_type": "markdown",
   "id": "b84cba9e-c7ef-4251-82cf-3000304f37e5",
   "metadata": {},
   "source": [
    "#### Add the colomns of input data to the evaluation result"
   ]
  },
  {
   "cell_type": "code",
   "execution_count": 33,
   "id": "17838445-e6c4-4cc0-bc64-0f6e04caef0e",
   "metadata": {
    "tags": []
   },
   "outputs": [
    {
     "data": {
      "text/html": [
       "<div>\n",
       "<style scoped>\n",
       "    .dataframe tbody tr th:only-of-type {\n",
       "        vertical-align: middle;\n",
       "    }\n",
       "\n",
       "    .dataframe tbody tr th {\n",
       "        vertical-align: top;\n",
       "    }\n",
       "\n",
       "    .dataframe thead th {\n",
       "        text-align: right;\n",
       "    }\n",
       "</style>\n",
       "<table border=\"1\" class=\"dataframe\">\n",
       "  <thead>\n",
       "    <tr style=\"text-align: right;\">\n",
       "      <th></th>\n",
       "      <th>doc_link</th>\n",
       "      <th>doc_period</th>\n",
       "      <th>question_type</th>\n",
       "      <th>question</th>\n",
       "      <th>ground_truths</th>\n",
       "      <th>evidence_text</th>\n",
       "      <th>page_number</th>\n",
       "      <th>llm_answer</th>\n",
       "      <th>llm_contexts</th>\n",
       "      <th>latency_meta_time</th>\n",
       "      <th>latency_meta_kwd</th>\n",
       "      <th>latency_meta_comb</th>\n",
       "      <th>latency_meta_ans_gen</th>\n",
       "      <th>input_tokens</th>\n",
       "      <th>output_tokens</th>\n",
       "      <th>answer_precision</th>\n",
       "      <th>answer_recall</th>\n",
       "      <th>answer_correctness</th>\n",
       "      <th>semantic_similarity</th>\n",
       "    </tr>\n",
       "  </thead>\n",
       "  <tbody>\n",
       "    <tr>\n",
       "      <th>0</th>\n",
       "      <td>https://investors.3m.com/financials/sec-filing...</td>\n",
       "      <td>2018</td>\n",
       "      <td>metrics-generated</td>\n",
       "      <td>What is the FY2018 capital expenditure amount ...</td>\n",
       "      <td>'$1577.00'</td>\n",
       "      <td>Table of Contents \\n3M Company and Subsidiarie...</td>\n",
       "      <td>60</td>\n",
       "      <td>According to the cash flow statement in the 3M...</td>\n",
       "      <td>[&lt;&lt;Paragraph&gt;&gt; [Source File: 3M_2018_10K] \\n  ...</td>\n",
       "      <td>0.927055</td>\n",
       "      <td>0.606658</td>\n",
       "      <td>1.448762</td>\n",
       "      <td>2.483714</td>\n",
       "      <td>21147</td>\n",
       "      <td>401</td>\n",
       "      <td>0.000000</td>\n",
       "      <td>1.000000</td>\n",
       "      <td>0.586305</td>\n",
       "      <td>0.095220</td>\n",
       "    </tr>\n",
       "    <tr>\n",
       "      <th>1</th>\n",
       "      <td>https://investors.3m.com/financials/sec-filing...</td>\n",
       "      <td>2022</td>\n",
       "      <td>domain-relevant</td>\n",
       "      <td>Is 3M a capital-intensive business based on FY...</td>\n",
       "      <td>'No, the company is managing its CAPEX and Fix...</td>\n",
       "      <td>3M Company and Subsidiaries\\n Consolidated Sta...</td>\n",
       "      <td>48,50,52</td>\n",
       "      <td>Based on the financial information provided in...</td>\n",
       "      <td>[&lt;&lt;Paragraph&gt;&gt; [Source File: 3M_2022_10K] \\n  ...</td>\n",
       "      <td>0.714294</td>\n",
       "      <td>0.503733</td>\n",
       "      <td>1.938756</td>\n",
       "      <td>5.232772</td>\n",
       "      <td>23180</td>\n",
       "      <td>635</td>\n",
       "      <td>0.785714</td>\n",
       "      <td>NaN</td>\n",
       "      <td>0.666366</td>\n",
       "      <td>0.332131</td>\n",
       "    </tr>\n",
       "    <tr>\n",
       "      <th>2</th>\n",
       "      <td>https://www.adobe.com/pdf-page.html?pdfTarget=...</td>\n",
       "      <td>2022</td>\n",
       "      <td>domain-relevant</td>\n",
       "      <td>Does Adobe have an improving operating margin ...</td>\n",
       "      <td>'No the operating margins of Adobe have recent...</td>\n",
       "      <td>ADOBE INC.\\nCONSOLIDATED STATEMENTS OF INCOME\\...</td>\n",
       "      <td>54</td>\n",
       "      <td>Based on the financial information provided in...</td>\n",
       "      <td>[&lt;&lt;Paragraph&gt;&gt; [Source File: ADOBE_2022_10K] \\...</td>\n",
       "      <td>0.774023</td>\n",
       "      <td>3.742355</td>\n",
       "      <td>1.554743</td>\n",
       "      <td>4.361795</td>\n",
       "      <td>13324</td>\n",
       "      <td>1038</td>\n",
       "      <td>NaN</td>\n",
       "      <td>0.333333</td>\n",
       "      <td>0.657629</td>\n",
       "      <td>0.784362</td>\n",
       "    </tr>\n",
       "    <tr>\n",
       "      <th>3</th>\n",
       "      <td>https://www.adobe.com/pdf-page.html?pdfTarget=...</td>\n",
       "      <td>2022</td>\n",
       "      <td>novel-generated</td>\n",
       "      <td>Does Adobe have an improving Free cashflow con...</td>\n",
       "      <td>'Yes, the FCF conversion (using net income as ...</td>\n",
       "      <td>ADOBE INC.\\n CONSOLIDATED STATEMENTS OF CASH F...</td>\n",
       "      <td>57</td>\n",
       "      <td>Based on the financial information provided in...</td>\n",
       "      <td>[&lt;&lt;Paragraph&gt;&gt; [Source File: ADOBE_2022_10K] \\...</td>\n",
       "      <td>0.891798</td>\n",
       "      <td>0.576164</td>\n",
       "      <td>1.379593</td>\n",
       "      <td>3.781731</td>\n",
       "      <td>12957</td>\n",
       "      <td>526</td>\n",
       "      <td>0.200000</td>\n",
       "      <td>0.000000</td>\n",
       "      <td>0.161393</td>\n",
       "      <td>0.645570</td>\n",
       "    </tr>\n",
       "    <tr>\n",
       "      <th>4</th>\n",
       "      <td>https://ir.amd.com/sec-filings/filter/annual-f...</td>\n",
       "      <td>2015</td>\n",
       "      <td>metrics-generated</td>\n",
       "      <td>Answer the following question as if you are an...</td>\n",
       "      <td>'4.2%'</td>\n",
       "      <td>ITEM 8.\\nFINANCIAL STATEMENTS AND SUPPLEMENTAR...</td>\n",
       "      <td>56,60</td>\n",
       "      <td>According to the details in the Profit and Los...</td>\n",
       "      <td>[&lt;&lt;Paragraph&gt;&gt; [Source File: AMD_2015_10K] \\n ...</td>\n",
       "      <td>0.821045</td>\n",
       "      <td>0.420084</td>\n",
       "      <td>1.686061</td>\n",
       "      <td>2.925910</td>\n",
       "      <td>24266</td>\n",
       "      <td>494</td>\n",
       "      <td>0.000000</td>\n",
       "      <td>0.000000</td>\n",
       "      <td>0.798554</td>\n",
       "      <td>0.194215</td>\n",
       "    </tr>\n",
       "  </tbody>\n",
       "</table>\n",
       "</div>"
      ],
      "text/plain": [
       "                                            doc_link  doc_period  \\\n",
       "0  https://investors.3m.com/financials/sec-filing...        2018   \n",
       "1  https://investors.3m.com/financials/sec-filing...        2022   \n",
       "2  https://www.adobe.com/pdf-page.html?pdfTarget=...        2022   \n",
       "3  https://www.adobe.com/pdf-page.html?pdfTarget=...        2022   \n",
       "4  https://ir.amd.com/sec-filings/filter/annual-f...        2015   \n",
       "\n",
       "       question_type                                           question  \\\n",
       "0  metrics-generated  What is the FY2018 capital expenditure amount ...   \n",
       "1    domain-relevant  Is 3M a capital-intensive business based on FY...   \n",
       "2    domain-relevant  Does Adobe have an improving operating margin ...   \n",
       "3    novel-generated  Does Adobe have an improving Free cashflow con...   \n",
       "4  metrics-generated  Answer the following question as if you are an...   \n",
       "\n",
       "                                       ground_truths  \\\n",
       "0                                         '$1577.00'   \n",
       "1  'No, the company is managing its CAPEX and Fix...   \n",
       "2  'No the operating margins of Adobe have recent...   \n",
       "3  'Yes, the FCF conversion (using net income as ...   \n",
       "4                                             '4.2%'   \n",
       "\n",
       "                                       evidence_text page_number  \\\n",
       "0  Table of Contents \\n3M Company and Subsidiarie...          60   \n",
       "1  3M Company and Subsidiaries\\n Consolidated Sta...    48,50,52   \n",
       "2  ADOBE INC.\\nCONSOLIDATED STATEMENTS OF INCOME\\...          54   \n",
       "3  ADOBE INC.\\n CONSOLIDATED STATEMENTS OF CASH F...          57   \n",
       "4  ITEM 8.\\nFINANCIAL STATEMENTS AND SUPPLEMENTAR...       56,60   \n",
       "\n",
       "                                          llm_answer  \\\n",
       "0  According to the cash flow statement in the 3M...   \n",
       "1  Based on the financial information provided in...   \n",
       "2  Based on the financial information provided in...   \n",
       "3  Based on the financial information provided in...   \n",
       "4  According to the details in the Profit and Los...   \n",
       "\n",
       "                                        llm_contexts  latency_meta_time  \\\n",
       "0  [<<Paragraph>> [Source File: 3M_2018_10K] \\n  ...           0.927055   \n",
       "1  [<<Paragraph>> [Source File: 3M_2022_10K] \\n  ...           0.714294   \n",
       "2  [<<Paragraph>> [Source File: ADOBE_2022_10K] \\...           0.774023   \n",
       "3  [<<Paragraph>> [Source File: ADOBE_2022_10K] \\...           0.891798   \n",
       "4  [<<Paragraph>> [Source File: AMD_2015_10K] \\n ...           0.821045   \n",
       "\n",
       "   latency_meta_kwd  latency_meta_comb  latency_meta_ans_gen  input_tokens  \\\n",
       "0          0.606658           1.448762              2.483714         21147   \n",
       "1          0.503733           1.938756              5.232772         23180   \n",
       "2          3.742355           1.554743              4.361795         13324   \n",
       "3          0.576164           1.379593              3.781731         12957   \n",
       "4          0.420084           1.686061              2.925910         24266   \n",
       "\n",
       "   output_tokens  answer_precision  answer_recall  answer_correctness  \\\n",
       "0            401          0.000000       1.000000            0.586305   \n",
       "1            635          0.785714            NaN            0.666366   \n",
       "2           1038               NaN       0.333333            0.657629   \n",
       "3            526          0.200000       0.000000            0.161393   \n",
       "4            494          0.000000       0.000000            0.798554   \n",
       "\n",
       "   semantic_similarity  \n",
       "0             0.095220  \n",
       "1             0.332131  \n",
       "2             0.784362  \n",
       "3             0.645570  \n",
       "4             0.194215  "
      ]
     },
     "execution_count": 33,
     "metadata": {},
     "output_type": "execute_result"
    }
   ],
   "source": [
    "metrics_keys = ['answer_precision','answer_recall','answer_correctness','semantic_similarity']\n",
    "\n",
    "# Reset the index if necessary\n",
    "result_df = result_df.reset_index(drop=True)\n",
    "eval_result_df = eval_result_df.reset_index(drop=True)\n",
    "\n",
    "# Now perform the merge\n",
    "eval_result_df_new = result_df.merge(eval_result_df[metrics_keys], \n",
    "                                     how='left', left_index=True, right_index=True)\n",
    "\n",
    "eval_result_df_new.head()\n"
   ]
  },
  {
   "cell_type": "markdown",
   "id": "3d66358b-cfe5-4d79-9b76-3f60f69b9825",
   "metadata": {},
   "source": [
    "#### Save the full report to the ragas evaluation in .csv format under '../data/results/data/results/evaluation_report/ragas/' "
   ]
  },
  {
   "cell_type": "code",
   "execution_count": 34,
   "id": "c84aae9b-f3c0-4590-924f-543a06d3a379",
   "metadata": {
    "tags": []
   },
   "outputs": [
    {
     "name": "stdout",
     "output_type": "stream",
     "text": [
      "../outputs/evaluation_reports/ragas/ragas_eval_claude.csv\n"
     ]
    }
   ],
   "source": [
    "eval_csv_dir = (\n",
    "    f\"../outputs/evaluation_reports/ragas/ragas_eval_\" + model_output + \".csv\"\n",
    ")  # change filename to the one that needs to be evaluated\n",
    "print(eval_csv_dir)"
   ]
  },
  {
   "cell_type": "code",
   "execution_count": 35,
   "id": "7a616b7a-c873-499c-8975-c14c4ad889bf",
   "metadata": {
    "tags": []
   },
   "outputs": [
    {
     "name": "stdout",
     "output_type": "stream",
     "text": [
      "Save evaluation results to: ../outputs/evaluation_reports/ragas/ragas_eval_claude.csv'\n"
     ]
    }
   ],
   "source": [
    "eval_result_csv_file = eval_result_df_new.to_csv(f\"{eval_csv_dir}\", index=False)\n",
    "print(f\"Save evaluation results to: {eval_csv_dir}'\")"
   ]
  },
  {
   "cell_type": "markdown",
   "id": "0916608b-0b6a-4a01-abb9-95f832aa189b",
   "metadata": {},
   "source": [
    "#### Get Mean and Median Scores for Metrics"
   ]
  },
  {
   "cell_type": "code",
   "execution_count": 36,
   "id": "70c5cfdd-d941-4c46-8c69-1aace6f66a20",
   "metadata": {
    "tags": []
   },
   "outputs": [],
   "source": [
    "def get_scores(results, metric): \n",
    "    print(f\"Qna generation results for {metric}\")\n",
    "    print(\"Mean\")\n",
    "    print(results[metric].mean())\n",
    "    print(\"Median\")\n",
    "    print(results[metric].median())\n",
    "    print()"
   ]
  },
  {
   "cell_type": "code",
   "execution_count": 38,
   "id": "4340ec8b-c939-46b6-8cbd-e4b9fc5a2148",
   "metadata": {
    "tags": []
   },
   "outputs": [
    {
     "name": "stdout",
     "output_type": "stream",
     "text": [
      "Qna generation results for answer_precision\n",
      "Mean\n",
      "0.32204585537918873\n",
      "Median\n",
      "0.2\n",
      "\n",
      "Qna generation results for answer_recall\n",
      "Mean\n",
      "0.537037037037037\n",
      "Median\n",
      "0.5\n",
      "\n",
      "Qna generation results for answer_correctness\n",
      "Mean\n",
      "0.622294777994382\n",
      "Median\n",
      "0.6619975983575948\n",
      "\n",
      "Qna generation results for semantic_similarity\n",
      "Mean\n",
      "0.37368137442096694\n",
      "Median\n",
      "0.266861604432434\n",
      "\n"
     ]
    }
   ],
   "source": [
    "ragas_eval_metric_names = ['answer_precision','answer_recall','answer_correctness','semantic_similarity']\n",
    "for m in ragas_eval_metric_names:\n",
    "    get_scores(eval_result_df_new, m)"
   ]
  },
  {
   "cell_type": "code",
   "execution_count": null,
   "id": "81ac17a5-915b-43b2-84a6-75acbc23b6e3",
   "metadata": {},
   "outputs": [],
   "source": []
  }
 ],
 "metadata": {
  "kernelspec": {
   "display_name": "conda_python3",
   "language": "python",
   "name": "conda_python3"
  },
  "language_info": {
   "codemirror_mode": {
    "name": "ipython",
    "version": 3
   },
   "file_extension": ".py",
   "mimetype": "text/x-python",
   "name": "python",
   "nbconvert_exporter": "python",
   "pygments_lexer": "ipython3",
   "version": "3.10.16"
  }
 },
 "nbformat": 4,
 "nbformat_minor": 5
}
